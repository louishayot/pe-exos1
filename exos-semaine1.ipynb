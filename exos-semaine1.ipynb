{
 "cells": [
  {
   "cell_type": "markdown",
   "id": "cfc213e5",
   "metadata": {},
   "source": [
    "# Cadre"
   ]
  },
  {
   "cell_type": "code",
   "execution_count": 1,
   "id": "82820e2a",
   "metadata": {},
   "outputs": [
    {
     "data": {
      "text/plain": [
       "'1.23.2'"
      ]
     },
     "execution_count": 1,
     "metadata": {},
     "output_type": "execute_result"
    }
   ],
   "source": [
    "import numpy as np\n",
    "np.__version__"
   ]
  },
  {
   "cell_type": "code",
   "execution_count": 21,
   "id": "f2eeadcb",
   "metadata": {},
   "outputs": [
    {
     "name": "stdout",
     "output_type": "stream",
     "text": [
      "[[ True  True  True  True  True  True  True  True  True  True]\n",
      " [ True  True  True  True  True  True  True  True  True  True]\n",
      " [ True  True  True  True  True  True  True  True  True  True]\n",
      " [ True  True  True  True  True  True  True  True  True  True]\n",
      " [ True  True  True  True  True  True  True  True  True  True]\n",
      " [ True  True  True  True  True  True  True  True  True  True]\n",
      " [ True  True  True  True  True  True  True  True  True  True]\n",
      " [ True  True  True  True  True  True  True  True  True  True]\n",
      " [ True  True  True  True  True  True  True  True  True  True]\n",
      " [ True  True  True  True  True  True  True  True  True  True]]\n"
     ]
    },
    {
     "ename": "NameError",
     "evalue": "name 'imshow' is not defined",
     "output_type": "error",
     "traceback": [
      "\u001b[0;31m---------------------------------------------------------------------------\u001b[0m",
      "\u001b[0;31mNameError\u001b[0m                                 Traceback (most recent call last)",
      "Input \u001b[0;32mIn [21]\u001b[0m, in \u001b[0;36m<cell line: 3>\u001b[0;34m()\u001b[0m\n\u001b[1;32m      1\u001b[0m t\u001b[38;5;241m=\u001b[39mnp\u001b[38;5;241m.\u001b[39mones((\u001b[38;5;241m10\u001b[39m,\u001b[38;5;241m10\u001b[39m),dtype\u001b[38;5;241m=\u001b[39m\u001b[38;5;28mbool\u001b[39m)\n\u001b[1;32m      2\u001b[0m \u001b[38;5;28mprint\u001b[39m(t)\n\u001b[0;32m----> 3\u001b[0m \u001b[43mimshow\u001b[49m(t)\n",
      "\u001b[0;31mNameError\u001b[0m: name 'imshow' is not defined"
     ]
    }
   ],
   "source": [
    "t=np.ones((10,10),dtype=bool)\n",
    "print(t)\n",
    "imshow(t)\n",
    "#marche pas"
   ]
  },
  {
   "cell_type": "code",
   "execution_count": 19,
   "id": "5b34de05",
   "metadata": {},
   "outputs": [],
   "source": [
    "def cadre(tab):\n",
    "    #peux faire mieux à mon avis que \"if\", dans l'argument de la fonction par ex\n",
    "    if tab.ndim == 2 :\n",
    "        n=tab.shape[0]\n",
    "        m=tab.shape[1]\n",
    "        tab[1]=[0]*m\n",
    "        tab[n-2]=[0]*m\n",
    "        tab[:,1]=[0]*n\n",
    "        tab[:,m-2]=[0]*n\n",
    "        return tab\n",
    "    else : \n",
    "        print(\"il faut tableau de dim 2\")"
   ]
  },
  {
   "cell_type": "code",
   "execution_count": 20,
   "id": "27187fb4",
   "metadata": {},
   "outputs": [
    {
     "name": "stdout",
     "output_type": "stream",
     "text": [
      "[[ True False  True  True  True  True  True  True False  True]\n",
      " [False False False False False False False False False False]\n",
      " [ True False  True  True  True  True  True  True False  True]\n",
      " [ True False  True  True  True  True  True  True False  True]\n",
      " [ True False  True  True  True  True  True  True False  True]\n",
      " [ True False  True  True  True  True  True  True False  True]\n",
      " [ True False  True  True  True  True  True  True False  True]\n",
      " [ True False  True  True  True  True  True  True False  True]\n",
      " [False False False False False False False False False False]\n",
      " [ True False  True  True  True  True  True  True False  True]]\n"
     ]
    }
   ],
   "source": [
    "print(cadre(t))"
   ]
  },
  {
   "cell_type": "code",
   "execution_count": 37,
   "id": "2817e3f4",
   "metadata": {},
   "outputs": [
    {
     "name": "stdout",
     "output_type": "stream",
     "text": [
      "[[ 3  0 13 10 14  7  0 18]\n",
      " [ 0  0  0  0  0  0  0  0]\n",
      " [ 4  0 20 16 15 13  0  3]\n",
      " [ 0  0 11 12 18  0  0 18]\n",
      " [ 0  0  0  0  0  0  0  0]\n",
      " [ 9  0 15  6  5 15  0  4]]\n"
     ]
    }
   ],
   "source": [
    "print(cadre(np.random.randint(0, 21, (6,8))))\n",
    "#pas compris : type 'entier non signé sur 8bits'"
   ]
  },
  {
   "cell_type": "markdown",
   "id": "b129d029",
   "metadata": {},
   "source": [
    "# Cadre 2"
   ]
  },
  {
   "cell_type": "code",
   "execution_count": 38,
   "id": "f5337b9c",
   "metadata": {},
   "outputs": [],
   "source": [
    "def cadre2(tab) :\n",
    "    if tab.ndim == 2 :\n",
    "        n=tab.shape[0]\n",
    "        m=tab.shape[1]\n",
    "        tab[0]=[0]*m\n",
    "        tab[n-1]=[0]*m\n",
    "        tab[:,0]=[0]*n\n",
    "        tab[:,m-1]=[0]*n\n",
    "        return tab\n",
    "    else : \n",
    "        print(\"il faut tableau de dim 2\")\n",
    "#le choix de faire une copie ? pas compris la diff avec cadre1"
   ]
  },
  {
   "cell_type": "markdown",
   "id": "8f2d9970",
   "metadata": {},
   "source": [
    "# Anti_diagonal"
   ]
  },
  {
   "cell_type": "code",
   "execution_count": 48,
   "id": "38290788",
   "metadata": {},
   "outputs": [],
   "source": [
    "def anti_diagonal(l) :\n",
    "    t=np.zeros((len(l),len(l)))\n",
    "    for i in range(len(l)):\n",
    "        t[i][len(l)-1-i]=l[i]\n",
    "    return t"
   ]
  },
  {
   "cell_type": "code",
   "execution_count": 49,
   "id": "59c712eb",
   "metadata": {},
   "outputs": [
    {
     "name": "stdout",
     "output_type": "stream",
     "text": [
      "[[0. 0. 0. 1.]\n",
      " [0. 0. 2. 0.]\n",
      " [0. 3. 0. 0.]\n",
      " [4. 0. 0. 0.]]\n"
     ]
    }
   ],
   "source": [
    "print(anti_diagonal([1,2,3,4]))"
   ]
  },
  {
   "cell_type": "code",
   "execution_count": 51,
   "id": "1f86a17b",
   "metadata": {},
   "outputs": [
    {
     "name": "stdout",
     "output_type": "stream",
     "text": [
      "[[10.]]\n",
      "[[ 0. 10.]\n",
      " [ 3.  0.]]\n"
     ]
    }
   ],
   "source": [
    "print(anti_diagonal([10]))\n",
    "print(anti_diagonal([10,3]))"
   ]
  },
  {
   "cell_type": "code",
   "execution_count": 52,
   "id": "0d05de49",
   "metadata": {},
   "outputs": [],
   "source": [
    "def anti_diagonal_2(l) :\n",
    "    t=np.empty((len(l),len(l)))\n",
    "    for i in range(len(l)):\n",
    "        for j in range(len(l)):\n",
    "            t[i][j]=0\n",
    "    for i in range(len(l)):\n",
    "        t[i][len(l)-1-i]=l[i]\n",
    "    return t\n",
    "#pas fan de ce que j'ai fait\n",
    "#je ne vois pas vraiment comment ne pas utiliser de for"
   ]
  },
  {
   "cell_type": "code",
   "execution_count": 53,
   "id": "e6ac877d",
   "metadata": {},
   "outputs": [
    {
     "name": "stdout",
     "output_type": "stream",
     "text": [
      "[[0. 0. 0. 1.]\n",
      " [0. 0. 2. 0.]\n",
      " [0. 3. 0. 0.]\n",
      " [4. 0. 0. 0.]]\n"
     ]
    }
   ],
   "source": [
    "print(anti_diagonal_2([1,2,3,4]))"
   ]
  },
  {
   "cell_type": "markdown",
   "id": "1d2bab49",
   "metadata": {},
   "source": [
    "## bonus"
   ]
  },
  {
   "cell_type": "markdown",
   "id": "4eb300c4",
   "metadata": {},
   "source": [
    "Pas compris, faudrait un entier en fait...."
   ]
  },
  {
   "cell_type": "code",
   "execution_count": 58,
   "id": "cbecdaea",
   "metadata": {},
   "outputs": [
    {
     "name": "stdout",
     "output_type": "stream",
     "text": [
      "[[0. 0. 0. 2.]\n",
      " [0. 0. 3. 0.]\n",
      " [0. 4. 0. 0.]\n",
      " [5. 0. 0. 0.]]\n"
     ]
    },
    {
     "ename": "KeyError",
     "evalue": "0",
     "output_type": "error",
     "traceback": [
      "\u001b[0;31m---------------------------------------------------------------------------\u001b[0m",
      "\u001b[0;31mKeyError\u001b[0m                                  Traceback (most recent call last)",
      "Input \u001b[0;32mIn [58]\u001b[0m, in \u001b[0;36m<cell line: 2>\u001b[0;34m()\u001b[0m\n\u001b[1;32m      1\u001b[0m \u001b[38;5;28mprint\u001b[39m(anti_diagonal((\u001b[38;5;241m2\u001b[39m,\u001b[38;5;241m3\u001b[39m,\u001b[38;5;241m4\u001b[39m,\u001b[38;5;241m5\u001b[39m)))\n\u001b[0;32m----> 2\u001b[0m \u001b[38;5;28mprint\u001b[39m(\u001b[43manti_diagonal\u001b[49m\u001b[43m(\u001b[49m\u001b[43m{\u001b[49m\u001b[38;5;124;43m\"\u001b[39;49m\u001b[38;5;124;43ma\u001b[39;49m\u001b[38;5;124;43m\"\u001b[39;49m\u001b[43m:\u001b[49m\u001b[38;5;241;43m1\u001b[39;49m\u001b[43m,\u001b[49m\u001b[38;5;124;43m\"\u001b[39;49m\u001b[38;5;124;43mb\u001b[39;49m\u001b[38;5;124;43m\"\u001b[39;49m\u001b[43m:\u001b[49m\u001b[38;5;241;43m2\u001b[39;49m\u001b[43m,\u001b[49m\u001b[38;5;124;43m\"\u001b[39;49m\u001b[38;5;124;43mc\u001b[39;49m\u001b[38;5;124;43m\"\u001b[39;49m\u001b[43m:\u001b[49m\u001b[38;5;241;43m3\u001b[39;49m\u001b[43m,\u001b[49m\u001b[38;5;124;43m\"\u001b[39;49m\u001b[38;5;124;43md\u001b[39;49m\u001b[38;5;124;43m\"\u001b[39;49m\u001b[43m:\u001b[49m\u001b[38;5;241;43m4\u001b[39;49m\u001b[43m}\u001b[49m\u001b[43m)\u001b[49m)\n",
      "Input \u001b[0;32mIn [48]\u001b[0m, in \u001b[0;36manti_diagonal\u001b[0;34m(l)\u001b[0m\n\u001b[1;32m      2\u001b[0m t\u001b[38;5;241m=\u001b[39mnp\u001b[38;5;241m.\u001b[39mzeros((\u001b[38;5;28mlen\u001b[39m(l),\u001b[38;5;28mlen\u001b[39m(l)))\n\u001b[1;32m      3\u001b[0m \u001b[38;5;28;01mfor\u001b[39;00m i \u001b[38;5;129;01min\u001b[39;00m \u001b[38;5;28mrange\u001b[39m(\u001b[38;5;28mlen\u001b[39m(l)):\n\u001b[0;32m----> 4\u001b[0m     t[i][\u001b[38;5;28mlen\u001b[39m(l)\u001b[38;5;241m-\u001b[39m\u001b[38;5;241m1\u001b[39m\u001b[38;5;241m-\u001b[39mi]\u001b[38;5;241m=\u001b[39m\u001b[43ml\u001b[49m\u001b[43m[\u001b[49m\u001b[43mi\u001b[49m\u001b[43m]\u001b[49m\n\u001b[1;32m      5\u001b[0m \u001b[38;5;28;01mreturn\u001b[39;00m t\n",
      "\u001b[0;31mKeyError\u001b[0m: 0"
     ]
    }
   ],
   "source": [
    "print(anti_diagonal((2,3,4,5)))\n",
    "print(anti_diagonal({\"a\":1,\"b\":2,\"c\":3,\"d\":4}))\n",
    "#tuple marche mais pas dictionnaire"
   ]
  },
  {
   "cell_type": "code",
   "execution_count": 59,
   "id": "f2e4d7aa",
   "metadata": {},
   "outputs": [
    {
     "name": "stdout",
     "output_type": "stream",
     "text": [
      "[[0. 0. 0. 0.]\n",
      " [0. 0. 1. 0.]\n",
      " [0. 2. 0. 0.]\n",
      " [3. 0. 0. 0.]]\n"
     ]
    }
   ],
   "source": [
    "print(anti_diagonal(range(4)))"
   ]
  },
  {
   "cell_type": "code",
   "execution_count": 60,
   "id": "32b4293d",
   "metadata": {},
   "outputs": [
    {
     "ename": "TypeError",
     "evalue": "object of type 'generator' has no len()",
     "output_type": "error",
     "traceback": [
      "\u001b[0;31m---------------------------------------------------------------------------\u001b[0m",
      "\u001b[0;31mTypeError\u001b[0m                                 Traceback (most recent call last)",
      "Input \u001b[0;32mIn [60]\u001b[0m, in \u001b[0;36m<cell line: 1>\u001b[0;34m()\u001b[0m\n\u001b[0;32m----> 1\u001b[0m \u001b[38;5;28mprint\u001b[39m(\u001b[43manti_diagonal\u001b[49m\u001b[43m(\u001b[49m\u001b[43mx\u001b[49m\u001b[38;5;241;43m*\u001b[39;49m\u001b[38;5;241;43m*\u001b[39;49m\u001b[38;5;241;43m2\u001b[39;49m\u001b[43m \u001b[49m\u001b[38;5;28;43;01mfor\u001b[39;49;00m\u001b[43m \u001b[49m\u001b[43mx\u001b[49m\u001b[43m \u001b[49m\u001b[38;5;129;43;01min\u001b[39;49;00m\u001b[43m \u001b[49m\u001b[38;5;28;43mrange\u001b[39;49m\u001b[43m(\u001b[49m\u001b[38;5;241;43m4\u001b[39;49m\u001b[43m)\u001b[49m\u001b[43m)\u001b[49m)\n",
      "Input \u001b[0;32mIn [48]\u001b[0m, in \u001b[0;36manti_diagonal\u001b[0;34m(l)\u001b[0m\n\u001b[1;32m      1\u001b[0m \u001b[38;5;28;01mdef\u001b[39;00m \u001b[38;5;21manti_diagonal\u001b[39m(l) :\n\u001b[0;32m----> 2\u001b[0m     t\u001b[38;5;241m=\u001b[39mnp\u001b[38;5;241m.\u001b[39mzeros((\u001b[38;5;28;43mlen\u001b[39;49m\u001b[43m(\u001b[49m\u001b[43ml\u001b[49m\u001b[43m)\u001b[49m,\u001b[38;5;28mlen\u001b[39m(l)))\n\u001b[1;32m      3\u001b[0m     \u001b[38;5;28;01mfor\u001b[39;00m i \u001b[38;5;129;01min\u001b[39;00m \u001b[38;5;28mrange\u001b[39m(\u001b[38;5;28mlen\u001b[39m(l)):\n\u001b[1;32m      4\u001b[0m         t[i][\u001b[38;5;28mlen\u001b[39m(l)\u001b[38;5;241m-\u001b[39m\u001b[38;5;241m1\u001b[39m\u001b[38;5;241m-\u001b[39mi]\u001b[38;5;241m=\u001b[39ml[i]\n",
      "\u001b[0;31mTypeError\u001b[0m: object of type 'generator' has no len()"
     ]
    }
   ],
   "source": [
    "print(anti_diagonal(x**2 for x in range(4)))"
   ]
  },
  {
   "cell_type": "code",
   "execution_count": 61,
   "id": "f5937779",
   "metadata": {},
   "outputs": [
    {
     "name": "stdout",
     "output_type": "stream",
     "text": [
      "[[0. 0. 0. 0.]\n",
      " [0. 0. 1. 0.]\n",
      " [0. 4. 0. 0.]\n",
      " [9. 0. 0. 0.]]\n"
     ]
    }
   ],
   "source": [
    "print(anti_diagonal([x**2 for x in range(4)]))"
   ]
  },
  {
   "cell_type": "code",
   "execution_count": 64,
   "id": "2d96c75e",
   "metadata": {},
   "outputs": [
    {
     "name": "stdout",
     "output_type": "stream",
     "text": [
      "[0, 1, 4, 9]\n",
      "<generator object <genexpr> at 0x7f8a6a516890>\n"
     ]
    }
   ],
   "source": [
    "print([x**2 for x in range(4)])\n",
    "print(x**2 for x in range(4))\n",
    "#Ca marche le 1er car ca créer une liste tout simplement\n",
    "#Mais le 2e génère quelque chose "
   ]
  },
  {
   "cell_type": "code",
   "execution_count": null,
   "id": "43f0b49a",
   "metadata": {},
   "outputs": [],
   "source": []
  }
 ],
 "metadata": {
  "kernelspec": {
   "display_name": "Python 3 (ipykernel)",
   "language": "python",
   "name": "python3"
  },
  "language_info": {
   "codemirror_mode": {
    "name": "ipython",
    "version": 3
   },
   "file_extension": ".py",
   "mimetype": "text/x-python",
   "name": "python",
   "nbconvert_exporter": "python",
   "pygments_lexer": "ipython3",
   "version": "3.9.12"
  }
 },
 "nbformat": 4,
 "nbformat_minor": 5
}
