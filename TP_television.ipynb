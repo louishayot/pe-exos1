{
 "cells": [
  {
   "cell_type": "code",
   "execution_count": 1,
   "id": "3d40b9bf",
   "metadata": {},
   "outputs": [],
   "source": [
    "import numpy as np\n",
    "import pandas as pd\n",
    "\n",
    "#from head import head\n",
    "#help(head)"
   ]
  },
  {
   "cell_type": "code",
   "execution_count": 2,
   "id": "5e55f866",
   "metadata": {},
   "outputs": [
    {
     "data": {
      "text/html": [
       "<div>\n",
       "<style scoped>\n",
       "    .dataframe tbody tr th:only-of-type {\n",
       "        vertical-align: middle;\n",
       "    }\n",
       "\n",
       "    .dataframe tbody tr th {\n",
       "        vertical-align: top;\n",
       "    }\n",
       "\n",
       "    .dataframe thead th {\n",
       "        text-align: right;\n",
       "    }\n",
       "</style>\n",
       "<table border=\"1\" class=\"dataframe\">\n",
       "  <thead>\n",
       "    <tr style=\"text-align: right;\">\n",
       "      <th></th>\n",
       "      <th>POIDLOG</th>\n",
       "      <th>POIDSF</th>\n",
       "      <th>cLT1FREQ</th>\n",
       "      <th>cLT2FREQ</th>\n",
       "      <th>Unnamed: 4</th>\n",
       "      <th>Unnamed: 5</th>\n",
       "      <th>Unnamed: 6</th>\n",
       "      <th>Unnamed: 7</th>\n",
       "      <th>Unnamed: 8</th>\n",
       "      <th>Unnamed: 9</th>\n",
       "      <th>...</th>\n",
       "      <th>Unnamed: 22</th>\n",
       "      <th>Unnamed: 23</th>\n",
       "      <th>Unnamed: 24</th>\n",
       "      <th>Unnamed: 25</th>\n",
       "      <th>Unnamed: 26</th>\n",
       "      <th>Unnamed: 27</th>\n",
       "      <th>Unnamed: 28</th>\n",
       "      <th>Unnamed: 29</th>\n",
       "      <th>Unnamed: 30</th>\n",
       "      <th>Unnamed: 31</th>\n",
       "    </tr>\n",
       "  </thead>\n",
       "  <tbody>\n",
       "    <tr>\n",
       "      <th>0</th>\n",
       "      <td>0.889422</td>\n",
       "      <td>4766.865201</td>\n",
       "      <td>2</td>\n",
       "      <td>1.0</td>\n",
       "      <td>NaN</td>\n",
       "      <td>NaN</td>\n",
       "      <td>NaN</td>\n",
       "      <td>NaN</td>\n",
       "      <td>NaN</td>\n",
       "      <td>NaN</td>\n",
       "      <td>...</td>\n",
       "      <td>NaN</td>\n",
       "      <td>NaN</td>\n",
       "      <td>NaN</td>\n",
       "      <td>NaN</td>\n",
       "      <td>NaN</td>\n",
       "      <td>NaN</td>\n",
       "      <td>NaN</td>\n",
       "      <td>NaN</td>\n",
       "      <td>NaN</td>\n",
       "      <td>NaN</td>\n",
       "    </tr>\n",
       "    <tr>\n",
       "      <th>1</th>\n",
       "      <td>2.310209</td>\n",
       "      <td>12381.589746</td>\n",
       "      <td>30</td>\n",
       "      <td>1.0</td>\n",
       "      <td>NaN</td>\n",
       "      <td>NaN</td>\n",
       "      <td>NaN</td>\n",
       "      <td>NaN</td>\n",
       "      <td>NaN</td>\n",
       "      <td>NaN</td>\n",
       "      <td>...</td>\n",
       "      <td>NaN</td>\n",
       "      <td>NaN</td>\n",
       "      <td>NaN</td>\n",
       "      <td>NaN</td>\n",
       "      <td>NaN</td>\n",
       "      <td>NaN</td>\n",
       "      <td>NaN</td>\n",
       "      <td>NaN</td>\n",
       "      <td>NaN</td>\n",
       "      <td>NaN</td>\n",
       "    </tr>\n",
       "    <tr>\n",
       "      <th>2</th>\n",
       "      <td>2.740070</td>\n",
       "      <td>14685.431344</td>\n",
       "      <td>6</td>\n",
       "      <td>2.0</td>\n",
       "      <td>NaN</td>\n",
       "      <td>NaN</td>\n",
       "      <td>NaN</td>\n",
       "      <td>NaN</td>\n",
       "      <td>NaN</td>\n",
       "      <td>NaN</td>\n",
       "      <td>...</td>\n",
       "      <td>NaN</td>\n",
       "      <td>NaN</td>\n",
       "      <td>NaN</td>\n",
       "      <td>NaN</td>\n",
       "      <td>NaN</td>\n",
       "      <td>NaN</td>\n",
       "      <td>NaN</td>\n",
       "      <td>NaN</td>\n",
       "      <td>NaN</td>\n",
       "      <td>NaN</td>\n",
       "    </tr>\n",
       "    <tr>\n",
       "      <th>3</th>\n",
       "      <td>1.775545</td>\n",
       "      <td>9516.049939</td>\n",
       "      <td>1</td>\n",
       "      <td>1.0</td>\n",
       "      <td>NaN</td>\n",
       "      <td>NaN</td>\n",
       "      <td>NaN</td>\n",
       "      <td>NaN</td>\n",
       "      <td>NaN</td>\n",
       "      <td>NaN</td>\n",
       "      <td>...</td>\n",
       "      <td>NaN</td>\n",
       "      <td>NaN</td>\n",
       "      <td>NaN</td>\n",
       "      <td>NaN</td>\n",
       "      <td>NaN</td>\n",
       "      <td>NaN</td>\n",
       "      <td>NaN</td>\n",
       "      <td>NaN</td>\n",
       "      <td>NaN</td>\n",
       "      <td>NaN</td>\n",
       "    </tr>\n",
       "    <tr>\n",
       "      <th>4</th>\n",
       "      <td>0.732512</td>\n",
       "      <td>3925.907588</td>\n",
       "      <td>3</td>\n",
       "      <td>1.0</td>\n",
       "      <td>NaN</td>\n",
       "      <td>NaN</td>\n",
       "      <td>NaN</td>\n",
       "      <td>NaN</td>\n",
       "      <td>NaN</td>\n",
       "      <td>NaN</td>\n",
       "      <td>...</td>\n",
       "      <td>NaN</td>\n",
       "      <td>NaN</td>\n",
       "      <td>NaN</td>\n",
       "      <td>NaN</td>\n",
       "      <td>NaN</td>\n",
       "      <td>NaN</td>\n",
       "      <td>NaN</td>\n",
       "      <td>NaN</td>\n",
       "      <td>NaN</td>\n",
       "      <td>NaN</td>\n",
       "    </tr>\n",
       "    <tr>\n",
       "      <th>...</th>\n",
       "      <td>...</td>\n",
       "      <td>...</td>\n",
       "      <td>...</td>\n",
       "      <td>...</td>\n",
       "      <td>...</td>\n",
       "      <td>...</td>\n",
       "      <td>...</td>\n",
       "      <td>...</td>\n",
       "      <td>...</td>\n",
       "      <td>...</td>\n",
       "      <td>...</td>\n",
       "      <td>...</td>\n",
       "      <td>...</td>\n",
       "      <td>...</td>\n",
       "      <td>...</td>\n",
       "      <td>...</td>\n",
       "      <td>...</td>\n",
       "      <td>...</td>\n",
       "      <td>...</td>\n",
       "      <td>...</td>\n",
       "      <td>...</td>\n",
       "    </tr>\n",
       "    <tr>\n",
       "      <th>8398</th>\n",
       "      <td>0.306852</td>\n",
       "      <td>1644.574141</td>\n",
       "      <td>6</td>\n",
       "      <td>1.0</td>\n",
       "      <td>NaN</td>\n",
       "      <td>NaN</td>\n",
       "      <td>NaN</td>\n",
       "      <td>NaN</td>\n",
       "      <td>NaN</td>\n",
       "      <td>NaN</td>\n",
       "      <td>...</td>\n",
       "      <td>NaN</td>\n",
       "      <td>NaN</td>\n",
       "      <td>NaN</td>\n",
       "      <td>NaN</td>\n",
       "      <td>NaN</td>\n",
       "      <td>NaN</td>\n",
       "      <td>NaN</td>\n",
       "      <td>NaN</td>\n",
       "      <td>NaN</td>\n",
       "      <td>NaN</td>\n",
       "    </tr>\n",
       "    <tr>\n",
       "      <th>8399</th>\n",
       "      <td>2.501181</td>\n",
       "      <td>13405.104689</td>\n",
       "      <td>6</td>\n",
       "      <td>1.0</td>\n",
       "      <td>NaN</td>\n",
       "      <td>NaN</td>\n",
       "      <td>NaN</td>\n",
       "      <td>NaN</td>\n",
       "      <td>NaN</td>\n",
       "      <td>NaN</td>\n",
       "      <td>...</td>\n",
       "      <td>NaN</td>\n",
       "      <td>NaN</td>\n",
       "      <td>NaN</td>\n",
       "      <td>NaN</td>\n",
       "      <td>NaN</td>\n",
       "      <td>NaN</td>\n",
       "      <td>NaN</td>\n",
       "      <td>NaN</td>\n",
       "      <td>NaN</td>\n",
       "      <td>NaN</td>\n",
       "    </tr>\n",
       "    <tr>\n",
       "      <th>8400</th>\n",
       "      <td>1.382758</td>\n",
       "      <td>7410.905653</td>\n",
       "      <td>1</td>\n",
       "      <td>1.0</td>\n",
       "      <td>NaN</td>\n",
       "      <td>NaN</td>\n",
       "      <td>NaN</td>\n",
       "      <td>NaN</td>\n",
       "      <td>NaN</td>\n",
       "      <td>NaN</td>\n",
       "      <td>...</td>\n",
       "      <td>NaN</td>\n",
       "      <td>NaN</td>\n",
       "      <td>NaN</td>\n",
       "      <td>NaN</td>\n",
       "      <td>NaN</td>\n",
       "      <td>NaN</td>\n",
       "      <td>NaN</td>\n",
       "      <td>NaN</td>\n",
       "      <td>NaN</td>\n",
       "      <td>NaN</td>\n",
       "    </tr>\n",
       "    <tr>\n",
       "      <th>8401</th>\n",
       "      <td>0.343340</td>\n",
       "      <td>1840.132652</td>\n",
       "      <td>3</td>\n",
       "      <td>1.0</td>\n",
       "      <td>NaN</td>\n",
       "      <td>NaN</td>\n",
       "      <td>NaN</td>\n",
       "      <td>NaN</td>\n",
       "      <td>NaN</td>\n",
       "      <td>NaN</td>\n",
       "      <td>...</td>\n",
       "      <td>NaN</td>\n",
       "      <td>NaN</td>\n",
       "      <td>NaN</td>\n",
       "      <td>NaN</td>\n",
       "      <td>NaN</td>\n",
       "      <td>NaN</td>\n",
       "      <td>NaN</td>\n",
       "      <td>NaN</td>\n",
       "      <td>NaN</td>\n",
       "      <td>NaN</td>\n",
       "    </tr>\n",
       "    <tr>\n",
       "      <th>8402</th>\n",
       "      <td>1.088486</td>\n",
       "      <td>5833.750895</td>\n",
       "      <td>0</td>\n",
       "      <td>NaN</td>\n",
       "      <td>NaN</td>\n",
       "      <td>NaN</td>\n",
       "      <td>NaN</td>\n",
       "      <td>NaN</td>\n",
       "      <td>NaN</td>\n",
       "      <td>NaN</td>\n",
       "      <td>...</td>\n",
       "      <td>NaN</td>\n",
       "      <td>NaN</td>\n",
       "      <td>NaN</td>\n",
       "      <td>NaN</td>\n",
       "      <td>NaN</td>\n",
       "      <td>NaN</td>\n",
       "      <td>NaN</td>\n",
       "      <td>NaN</td>\n",
       "      <td>NaN</td>\n",
       "      <td>NaN</td>\n",
       "    </tr>\n",
       "  </tbody>\n",
       "</table>\n",
       "<p>8403 rows × 32 columns</p>\n",
       "</div>"
      ],
      "text/plain": [
       "       POIDLOG        POIDSF  cLT1FREQ  cLT2FREQ  Unnamed: 4  Unnamed: 5  \\\n",
       "0     0.889422   4766.865201         2       1.0         NaN         NaN   \n",
       "1     2.310209  12381.589746        30       1.0         NaN         NaN   \n",
       "2     2.740070  14685.431344         6       2.0         NaN         NaN   \n",
       "3     1.775545   9516.049939         1       1.0         NaN         NaN   \n",
       "4     0.732512   3925.907588         3       1.0         NaN         NaN   \n",
       "...        ...           ...       ...       ...         ...         ...   \n",
       "8398  0.306852   1644.574141         6       1.0         NaN         NaN   \n",
       "8399  2.501181  13405.104689         6       1.0         NaN         NaN   \n",
       "8400  1.382758   7410.905653         1       1.0         NaN         NaN   \n",
       "8401  0.343340   1840.132652         3       1.0         NaN         NaN   \n",
       "8402  1.088486   5833.750895         0       NaN         NaN         NaN   \n",
       "\n",
       "      Unnamed: 6  Unnamed: 7  Unnamed: 8  Unnamed: 9  ...  Unnamed: 22  \\\n",
       "0            NaN         NaN         NaN         NaN  ...          NaN   \n",
       "1            NaN         NaN         NaN         NaN  ...          NaN   \n",
       "2            NaN         NaN         NaN         NaN  ...          NaN   \n",
       "3            NaN         NaN         NaN         NaN  ...          NaN   \n",
       "4            NaN         NaN         NaN         NaN  ...          NaN   \n",
       "...          ...         ...         ...         ...  ...          ...   \n",
       "8398         NaN         NaN         NaN         NaN  ...          NaN   \n",
       "8399         NaN         NaN         NaN         NaN  ...          NaN   \n",
       "8400         NaN         NaN         NaN         NaN  ...          NaN   \n",
       "8401         NaN         NaN         NaN         NaN  ...          NaN   \n",
       "8402         NaN         NaN         NaN         NaN  ...          NaN   \n",
       "\n",
       "      Unnamed: 23  Unnamed: 24  Unnamed: 25  Unnamed: 26  Unnamed: 27  \\\n",
       "0             NaN          NaN          NaN          NaN          NaN   \n",
       "1             NaN          NaN          NaN          NaN          NaN   \n",
       "2             NaN          NaN          NaN          NaN          NaN   \n",
       "3             NaN          NaN          NaN          NaN          NaN   \n",
       "4             NaN          NaN          NaN          NaN          NaN   \n",
       "...           ...          ...          ...          ...          ...   \n",
       "8398          NaN          NaN          NaN          NaN          NaN   \n",
       "8399          NaN          NaN          NaN          NaN          NaN   \n",
       "8400          NaN          NaN          NaN          NaN          NaN   \n",
       "8401          NaN          NaN          NaN          NaN          NaN   \n",
       "8402          NaN          NaN          NaN          NaN          NaN   \n",
       "\n",
       "      Unnamed: 28  Unnamed: 29  Unnamed: 30  Unnamed: 31  \n",
       "0             NaN          NaN          NaN          NaN  \n",
       "1             NaN          NaN          NaN          NaN  \n",
       "2             NaN          NaN          NaN          NaN  \n",
       "3             NaN          NaN          NaN          NaN  \n",
       "4             NaN          NaN          NaN          NaN  \n",
       "...           ...          ...          ...          ...  \n",
       "8398          NaN          NaN          NaN          NaN  \n",
       "8399          NaN          NaN          NaN          NaN  \n",
       "8400          NaN          NaN          NaN          NaN  \n",
       "8401          NaN          NaN          NaN          NaN  \n",
       "8402          NaN          NaN          NaN          NaN  \n",
       "\n",
       "[8403 rows x 32 columns]"
      ]
     },
     "execution_count": 2,
     "metadata": {},
     "output_type": "execute_result"
    }
   ],
   "source": [
    "df = pd.read_csv(\"television.txt\", sep=\"\\t\")\n",
    "df"
   ]
  },
  {
   "cell_type": "code",
   "execution_count": 3,
   "id": "57f37914",
   "metadata": {},
   "outputs": [
    {
     "data": {
      "text/plain": [
       "(8403, 32)"
      ]
     },
     "execution_count": 3,
     "metadata": {},
     "output_type": "execute_result"
    }
   ],
   "source": [
    "df.shape"
   ]
  },
  {
   "cell_type": "code",
   "execution_count": 6,
   "id": "f36c254e",
   "metadata": {},
   "outputs": [
    {
     "name": "stdout",
     "output_type": "stream",
     "text": [
      "Requirement already satisfied: openpyxl in /Users/louishayot/miniconda3/lib/python3.9/site-packages (3.0.10)\r\n",
      "Requirement already satisfied: et-xmlfile in /Users/louishayot/miniconda3/lib/python3.9/site-packages (from openpyxl) (1.1.0)\r\n"
     ]
    }
   ],
   "source": [
    "df.dropna?\n",
    "df.drop?\n",
    "\n",
    "pd.Series.unique?\n",
    "\n",
    "df.to_excel?\n",
    "!pip install openpyxl"
   ]
  },
  {
   "cell_type": "code",
   "execution_count": 8,
   "id": "fc269083",
   "metadata": {},
   "outputs": [
    {
     "data": {
      "text/plain": [
       "(8403, 32)"
      ]
     },
     "execution_count": 8,
     "metadata": {},
     "output_type": "execute_result"
    }
   ],
   "source": [
    "df = pd.read_csv(\"television.txt\", sep=\"\\t\")\n",
    "df.shape"
   ]
  },
  {
   "cell_type": "code",
   "execution_count": 9,
   "id": "a1c935f2",
   "metadata": {},
   "outputs": [],
   "source": [
    "df.dropna?"
   ]
  },
  {
   "cell_type": "code",
   "execution_count": 11,
   "id": "499287d3",
   "metadata": {},
   "outputs": [
    {
     "data": {
      "text/html": [
       "<div>\n",
       "<style scoped>\n",
       "    .dataframe tbody tr th:only-of-type {\n",
       "        vertical-align: middle;\n",
       "    }\n",
       "\n",
       "    .dataframe tbody tr th {\n",
       "        vertical-align: top;\n",
       "    }\n",
       "\n",
       "    .dataframe thead th {\n",
       "        text-align: right;\n",
       "    }\n",
       "</style>\n",
       "<table border=\"1\" class=\"dataframe\">\n",
       "  <thead>\n",
       "    <tr style=\"text-align: right;\">\n",
       "      <th></th>\n",
       "      <th>POIDLOG</th>\n",
       "      <th>POIDSF</th>\n",
       "      <th>cLT1FREQ</th>\n",
       "      <th>cLT2FREQ</th>\n",
       "    </tr>\n",
       "  </thead>\n",
       "  <tbody>\n",
       "    <tr>\n",
       "      <th>0</th>\n",
       "      <td>0.889422</td>\n",
       "      <td>4766.865201</td>\n",
       "      <td>2</td>\n",
       "      <td>1.0</td>\n",
       "    </tr>\n",
       "    <tr>\n",
       "      <th>1</th>\n",
       "      <td>2.310209</td>\n",
       "      <td>12381.589746</td>\n",
       "      <td>30</td>\n",
       "      <td>1.0</td>\n",
       "    </tr>\n",
       "    <tr>\n",
       "      <th>2</th>\n",
       "      <td>2.740070</td>\n",
       "      <td>14685.431344</td>\n",
       "      <td>6</td>\n",
       "      <td>2.0</td>\n",
       "    </tr>\n",
       "    <tr>\n",
       "      <th>3</th>\n",
       "      <td>1.775545</td>\n",
       "      <td>9516.049939</td>\n",
       "      <td>1</td>\n",
       "      <td>1.0</td>\n",
       "    </tr>\n",
       "    <tr>\n",
       "      <th>4</th>\n",
       "      <td>0.732512</td>\n",
       "      <td>3925.907588</td>\n",
       "      <td>3</td>\n",
       "      <td>1.0</td>\n",
       "    </tr>\n",
       "    <tr>\n",
       "      <th>...</th>\n",
       "      <td>...</td>\n",
       "      <td>...</td>\n",
       "      <td>...</td>\n",
       "      <td>...</td>\n",
       "    </tr>\n",
       "    <tr>\n",
       "      <th>8398</th>\n",
       "      <td>0.306852</td>\n",
       "      <td>1644.574141</td>\n",
       "      <td>6</td>\n",
       "      <td>1.0</td>\n",
       "    </tr>\n",
       "    <tr>\n",
       "      <th>8399</th>\n",
       "      <td>2.501181</td>\n",
       "      <td>13405.104689</td>\n",
       "      <td>6</td>\n",
       "      <td>1.0</td>\n",
       "    </tr>\n",
       "    <tr>\n",
       "      <th>8400</th>\n",
       "      <td>1.382758</td>\n",
       "      <td>7410.905653</td>\n",
       "      <td>1</td>\n",
       "      <td>1.0</td>\n",
       "    </tr>\n",
       "    <tr>\n",
       "      <th>8401</th>\n",
       "      <td>0.343340</td>\n",
       "      <td>1840.132652</td>\n",
       "      <td>3</td>\n",
       "      <td>1.0</td>\n",
       "    </tr>\n",
       "    <tr>\n",
       "      <th>8402</th>\n",
       "      <td>1.088486</td>\n",
       "      <td>5833.750895</td>\n",
       "      <td>0</td>\n",
       "      <td>NaN</td>\n",
       "    </tr>\n",
       "  </tbody>\n",
       "</table>\n",
       "<p>8403 rows × 4 columns</p>\n",
       "</div>"
      ],
      "text/plain": [
       "       POIDLOG        POIDSF  cLT1FREQ  cLT2FREQ\n",
       "0     0.889422   4766.865201         2       1.0\n",
       "1     2.310209  12381.589746        30       1.0\n",
       "2     2.740070  14685.431344         6       2.0\n",
       "3     1.775545   9516.049939         1       1.0\n",
       "4     0.732512   3925.907588         3       1.0\n",
       "...        ...           ...       ...       ...\n",
       "8398  0.306852   1644.574141         6       1.0\n",
       "8399  2.501181  13405.104689         6       1.0\n",
       "8400  1.382758   7410.905653         1       1.0\n",
       "8401  0.343340   1840.132652         3       1.0\n",
       "8402  1.088486   5833.750895         0       NaN\n",
       "\n",
       "[8403 rows x 4 columns]"
      ]
     },
     "execution_count": 11,
     "metadata": {},
     "output_type": "execute_result"
    }
   ],
   "source": [
    "df.dropna(how='all', axis=1, inplace=True)\n",
    "df"
   ]
  },
  {
   "cell_type": "code",
   "execution_count": 13,
   "id": "62bbb2d0",
   "metadata": {},
   "outputs": [
    {
     "data": {
      "text/plain": [
       "True"
      ]
     },
     "execution_count": 13,
     "metadata": {},
     "output_type": "execute_result"
    }
   ],
   "source": [
    "df.shape == (8403, 4)"
   ]
  },
  {
   "cell_type": "code",
   "execution_count": 14,
   "id": "ccc2f41a",
   "metadata": {},
   "outputs": [
    {
     "data": {
      "text/html": [
       "<div>\n",
       "<style scoped>\n",
       "    .dataframe tbody tr th:only-of-type {\n",
       "        vertical-align: middle;\n",
       "    }\n",
       "\n",
       "    .dataframe tbody tr th {\n",
       "        vertical-align: top;\n",
       "    }\n",
       "\n",
       "    .dataframe thead th {\n",
       "        text-align: right;\n",
       "    }\n",
       "</style>\n",
       "<table border=\"1\" class=\"dataframe\">\n",
       "  <thead>\n",
       "    <tr style=\"text-align: right;\">\n",
       "      <th></th>\n",
       "      <th>POIDLOG</th>\n",
       "      <th>POIDSF</th>\n",
       "      <th>cLT1FREQ</th>\n",
       "      <th>cLT2FREQ</th>\n",
       "    </tr>\n",
       "  </thead>\n",
       "  <tbody>\n",
       "    <tr>\n",
       "      <th>0</th>\n",
       "      <td>0.889422</td>\n",
       "      <td>4766.865201</td>\n",
       "      <td>2</td>\n",
       "      <td>1.0</td>\n",
       "    </tr>\n",
       "    <tr>\n",
       "      <th>1</th>\n",
       "      <td>2.310209</td>\n",
       "      <td>12381.589746</td>\n",
       "      <td>30</td>\n",
       "      <td>1.0</td>\n",
       "    </tr>\n",
       "    <tr>\n",
       "      <th>2</th>\n",
       "      <td>2.740070</td>\n",
       "      <td>14685.431344</td>\n",
       "      <td>6</td>\n",
       "      <td>2.0</td>\n",
       "    </tr>\n",
       "    <tr>\n",
       "      <th>3</th>\n",
       "      <td>1.775545</td>\n",
       "      <td>9516.049939</td>\n",
       "      <td>1</td>\n",
       "      <td>1.0</td>\n",
       "    </tr>\n",
       "    <tr>\n",
       "      <th>4</th>\n",
       "      <td>0.732512</td>\n",
       "      <td>3925.907588</td>\n",
       "      <td>3</td>\n",
       "      <td>1.0</td>\n",
       "    </tr>\n",
       "  </tbody>\n",
       "</table>\n",
       "</div>"
      ],
      "text/plain": [
       "    POIDLOG        POIDSF  cLT1FREQ  cLT2FREQ\n",
       "0  0.889422   4766.865201         2       1.0\n",
       "1  2.310209  12381.589746        30       1.0\n",
       "2  2.740070  14685.431344         6       2.0\n",
       "3  1.775545   9516.049939         1       1.0\n",
       "4  0.732512   3925.907588         3       1.0"
      ]
     },
     "execution_count": 14,
     "metadata": {},
     "output_type": "execute_result"
    }
   ],
   "source": [
    "df.head()"
   ]
  },
  {
   "cell_type": "markdown",
   "id": "67ffdd11",
   "metadata": {},
   "source": [
    "### la méthode pédestre"
   ]
  },
  {
   "cell_type": "code",
   "execution_count": 25,
   "id": "52602341",
   "metadata": {},
   "outputs": [],
   "source": [
    "df = pd.read_csv(\"television.txt\", sep=\"\\t\")"
   ]
  },
  {
   "cell_type": "code",
   "execution_count": 16,
   "id": "6aadb118",
   "metadata": {},
   "outputs": [],
   "source": [
    "def is_empty_column(df, colname):\n",
    "    n = len(df[colname])\n",
    "    if df[colname].isna().sum() == n :\n",
    "        return True\n",
    "    else :\n",
    "        return False"
   ]
  },
  {
   "cell_type": "code",
   "execution_count": 19,
   "id": "6ef00834",
   "metadata": {},
   "outputs": [
    {
     "data": {
      "text/plain": [
       "True"
      ]
     },
     "execution_count": 19,
     "metadata": {},
     "output_type": "execute_result"
    }
   ],
   "source": [
    "col1 = 'POIDLOG'\n",
    "not is_empty_column(df, col1)"
   ]
  },
  {
   "cell_type": "code",
   "execution_count": 20,
   "id": "62b32b6a",
   "metadata": {},
   "outputs": [
    {
     "data": {
      "text/plain": [
       "True"
      ]
     },
     "execution_count": 20,
     "metadata": {},
     "output_type": "execute_result"
    }
   ],
   "source": [
    "col5 = 'Unnamed: 4'\n",
    "is_empty_column(df, col5)"
   ]
  },
  {
   "cell_type": "code",
   "execution_count": 21,
   "id": "1e31f70d",
   "metadata": {},
   "outputs": [],
   "source": [
    "def liste_empty(df) :\n",
    "    l = []\n",
    "    for col in df.columns :\n",
    "        if is_empty_column(df, col) == True:\n",
    "            l.append(col)\n",
    "    return l"
   ]
  },
  {
   "cell_type": "code",
   "execution_count": 22,
   "id": "0059beae",
   "metadata": {},
   "outputs": [
    {
     "data": {
      "text/plain": [
       "['Unnamed: 4',\n",
       " 'Unnamed: 5',\n",
       " 'Unnamed: 6',\n",
       " 'Unnamed: 7',\n",
       " 'Unnamed: 8',\n",
       " 'Unnamed: 9',\n",
       " 'Unnamed: 10',\n",
       " 'Unnamed: 11',\n",
       " 'Unnamed: 12',\n",
       " 'Unnamed: 13',\n",
       " 'Unnamed: 14',\n",
       " 'Unnamed: 15',\n",
       " 'Unnamed: 16',\n",
       " 'Unnamed: 17',\n",
       " 'Unnamed: 18',\n",
       " 'Unnamed: 19',\n",
       " 'Unnamed: 20',\n",
       " 'Unnamed: 21',\n",
       " 'Unnamed: 22',\n",
       " 'Unnamed: 23',\n",
       " 'Unnamed: 24',\n",
       " 'Unnamed: 25',\n",
       " 'Unnamed: 26',\n",
       " 'Unnamed: 27',\n",
       " 'Unnamed: 28',\n",
       " 'Unnamed: 29',\n",
       " 'Unnamed: 30',\n",
       " 'Unnamed: 31']"
      ]
     },
     "execution_count": 22,
     "metadata": {},
     "output_type": "execute_result"
    }
   ],
   "source": [
    "empty_columns = liste_empty(df)\n",
    "empty_columns"
   ]
  },
  {
   "cell_type": "code",
   "execution_count": 26,
   "id": "bc6a50e6",
   "metadata": {},
   "outputs": [
    {
     "data": {
      "text/html": [
       "<div>\n",
       "<style scoped>\n",
       "    .dataframe tbody tr th:only-of-type {\n",
       "        vertical-align: middle;\n",
       "    }\n",
       "\n",
       "    .dataframe tbody tr th {\n",
       "        vertical-align: top;\n",
       "    }\n",
       "\n",
       "    .dataframe thead th {\n",
       "        text-align: right;\n",
       "    }\n",
       "</style>\n",
       "<table border=\"1\" class=\"dataframe\">\n",
       "  <thead>\n",
       "    <tr style=\"text-align: right;\">\n",
       "      <th></th>\n",
       "      <th>POIDLOG</th>\n",
       "      <th>POIDSF</th>\n",
       "      <th>cLT1FREQ</th>\n",
       "      <th>cLT2FREQ</th>\n",
       "    </tr>\n",
       "  </thead>\n",
       "  <tbody>\n",
       "    <tr>\n",
       "      <th>0</th>\n",
       "      <td>0.889422</td>\n",
       "      <td>4766.865201</td>\n",
       "      <td>2</td>\n",
       "      <td>1.0</td>\n",
       "    </tr>\n",
       "    <tr>\n",
       "      <th>1</th>\n",
       "      <td>2.310209</td>\n",
       "      <td>12381.589746</td>\n",
       "      <td>30</td>\n",
       "      <td>1.0</td>\n",
       "    </tr>\n",
       "    <tr>\n",
       "      <th>2</th>\n",
       "      <td>2.740070</td>\n",
       "      <td>14685.431344</td>\n",
       "      <td>6</td>\n",
       "      <td>2.0</td>\n",
       "    </tr>\n",
       "    <tr>\n",
       "      <th>3</th>\n",
       "      <td>1.775545</td>\n",
       "      <td>9516.049939</td>\n",
       "      <td>1</td>\n",
       "      <td>1.0</td>\n",
       "    </tr>\n",
       "    <tr>\n",
       "      <th>4</th>\n",
       "      <td>0.732512</td>\n",
       "      <td>3925.907588</td>\n",
       "      <td>3</td>\n",
       "      <td>1.0</td>\n",
       "    </tr>\n",
       "    <tr>\n",
       "      <th>...</th>\n",
       "      <td>...</td>\n",
       "      <td>...</td>\n",
       "      <td>...</td>\n",
       "      <td>...</td>\n",
       "    </tr>\n",
       "    <tr>\n",
       "      <th>8398</th>\n",
       "      <td>0.306852</td>\n",
       "      <td>1644.574141</td>\n",
       "      <td>6</td>\n",
       "      <td>1.0</td>\n",
       "    </tr>\n",
       "    <tr>\n",
       "      <th>8399</th>\n",
       "      <td>2.501181</td>\n",
       "      <td>13405.104689</td>\n",
       "      <td>6</td>\n",
       "      <td>1.0</td>\n",
       "    </tr>\n",
       "    <tr>\n",
       "      <th>8400</th>\n",
       "      <td>1.382758</td>\n",
       "      <td>7410.905653</td>\n",
       "      <td>1</td>\n",
       "      <td>1.0</td>\n",
       "    </tr>\n",
       "    <tr>\n",
       "      <th>8401</th>\n",
       "      <td>0.343340</td>\n",
       "      <td>1840.132652</td>\n",
       "      <td>3</td>\n",
       "      <td>1.0</td>\n",
       "    </tr>\n",
       "    <tr>\n",
       "      <th>8402</th>\n",
       "      <td>1.088486</td>\n",
       "      <td>5833.750895</td>\n",
       "      <td>0</td>\n",
       "      <td>NaN</td>\n",
       "    </tr>\n",
       "  </tbody>\n",
       "</table>\n",
       "<p>8403 rows × 4 columns</p>\n",
       "</div>"
      ],
      "text/plain": [
       "       POIDLOG        POIDSF  cLT1FREQ  cLT2FREQ\n",
       "0     0.889422   4766.865201         2       1.0\n",
       "1     2.310209  12381.589746        30       1.0\n",
       "2     2.740070  14685.431344         6       2.0\n",
       "3     1.775545   9516.049939         1       1.0\n",
       "4     0.732512   3925.907588         3       1.0\n",
       "...        ...           ...       ...       ...\n",
       "8398  0.306852   1644.574141         6       1.0\n",
       "8399  2.501181  13405.104689         6       1.0\n",
       "8400  1.382758   7410.905653         1       1.0\n",
       "8401  0.343340   1840.132652         3       1.0\n",
       "8402  1.088486   5833.750895         0       NaN\n",
       "\n",
       "[8403 rows x 4 columns]"
      ]
     },
     "execution_count": 26,
     "metadata": {},
     "output_type": "execute_result"
    }
   ],
   "source": [
    "empty_columns = liste_empty(df)\n",
    "df2 = df.drop(columns=empty_columns)\n",
    "df2"
   ]
  },
  {
   "cell_type": "code",
   "execution_count": 28,
   "id": "0c381030",
   "metadata": {},
   "outputs": [
    {
     "data": {
      "text/plain": [
       "True"
      ]
     },
     "execution_count": 28,
     "metadata": {},
     "output_type": "execute_result"
    }
   ],
   "source": [
    "df2.shape == (8403, 4)"
   ]
  },
  {
   "cell_type": "code",
   "execution_count": 31,
   "id": "e27d1ab9",
   "metadata": {},
   "outputs": [],
   "source": [
    "#..."
   ]
  },
  {
   "cell_type": "code",
   "execution_count": 30,
   "id": "9102c041",
   "metadata": {},
   "outputs": [
    {
     "data": {
      "text/plain": [
       "False"
      ]
     },
     "execution_count": 30,
     "metadata": {},
     "output_type": "execute_result"
    }
   ],
   "source": [
    "df.shape == (8403, 4)"
   ]
  },
  {
   "cell_type": "markdown",
   "id": "1c96ff63",
   "metadata": {},
   "source": [
    "## obtenir les valeurs distinctes"
   ]
  },
  {
   "cell_type": "markdown",
   "id": "aa59bebe",
   "metadata": {},
   "source": [
    "### un `ndarray`"
   ]
  },
  {
   "cell_type": "code",
   "execution_count": 33,
   "id": "e1e9e24d",
   "metadata": {},
   "outputs": [
    {
     "data": {
      "text/plain": [
       "array([ 1.,  2., nan,  3.])"
      ]
     },
     "execution_count": 33,
     "metadata": {},
     "output_type": "execute_result"
    }
   ],
   "source": [
    "unique1 = pd.Series(df['cLT2FREQ']).unique()\n",
    "unique1"
   ]
  },
  {
   "cell_type": "code",
   "execution_count": 34,
   "id": "b332c61a",
   "metadata": {},
   "outputs": [
    {
     "data": {
      "text/plain": [
       "True"
      ]
     },
     "execution_count": 34,
     "metadata": {},
     "output_type": "execute_result"
    }
   ],
   "source": [
    "unique1.sort()\n",
    "np.all(unique1[:-1] == np.arange(1, 4)) and np.isnan(unique1[-1])"
   ]
  },
  {
   "cell_type": "code",
   "execution_count": 35,
   "id": "40214dfb",
   "metadata": {},
   "outputs": [
    {
     "data": {
      "text/plain": [
       "False"
      ]
     },
     "execution_count": 35,
     "metadata": {},
     "output_type": "execute_result"
    }
   ],
   "source": [
    "unique1.sort()\n",
    "np.all(unique1 == np.array([1., 2., 3., np.nan]))\n",
    "#car on ne considère pas les 2 Nan comme identiques"
   ]
  },
  {
   "cell_type": "code",
   "execution_count": 36,
   "id": "81374e53",
   "metadata": {},
   "outputs": [
    {
     "data": {
      "text/plain": [
       "array([ 1.,  2.,  3., nan])"
      ]
     },
     "execution_count": 36,
     "metadata": {},
     "output_type": "execute_result"
    }
   ],
   "source": [
    "unique1.sort()\n",
    "unique1"
   ]
  },
  {
   "cell_type": "markdown",
   "id": "094495dd",
   "metadata": {},
   "source": [
    "### un ensemble"
   ]
  },
  {
   "cell_type": "code",
   "execution_count": 37,
   "id": "6b7dbd48",
   "metadata": {},
   "outputs": [
    {
     "data": {
      "text/plain": [
       "False"
      ]
     },
     "execution_count": 37,
     "metadata": {},
     "output_type": "execute_result"
    }
   ],
   "source": [
    "np.nan == np.nan"
   ]
  },
  {
   "cell_type": "markdown",
   "id": "8c506552",
   "metadata": {},
   "source": [
    "## compter les lignes à nettoyer"
   ]
  },
  {
   "cell_type": "code",
   "execution_count": 38,
   "id": "10523897",
   "metadata": {},
   "outputs": [
    {
     "data": {
      "text/plain": [
       "1017"
      ]
     },
     "execution_count": 38,
     "metadata": {},
     "output_type": "execute_result"
    }
   ],
   "source": [
    "nb_lines_to_clean = df['cLT2FREQ'].isna().sum()\n",
    "nb_lines_to_clean"
   ]
  },
  {
   "cell_type": "code",
   "execution_count": 39,
   "id": "af37e0a0",
   "metadata": {},
   "outputs": [
    {
     "data": {
      "text/plain": [
       "True"
      ]
     },
     "execution_count": 39,
     "metadata": {},
     "output_type": "execute_result"
    }
   ],
   "source": [
    "nb_lines_to_clean == 1017"
   ]
  },
  {
   "cell_type": "code",
   "execution_count": 40,
   "id": "79d3e09f",
   "metadata": {},
   "outputs": [
    {
     "data": {
      "text/plain": [
       "7386"
      ]
     },
     "execution_count": 40,
     "metadata": {},
     "output_type": "execute_result"
    }
   ],
   "source": [
    "expected_lines = len(df) - nb_lines_to_clean\n",
    "expected_lines"
   ]
  },
  {
   "cell_type": "markdown",
   "id": "3aa2a522",
   "metadata": {},
   "source": [
    "## nettoyage des lignes"
   ]
  },
  {
   "cell_type": "code",
   "execution_count": 41,
   "id": "7a40b053",
   "metadata": {},
   "outputs": [
    {
     "name": "stdout",
     "output_type": "stream",
     "text": [
      "(8403, 4)\n"
     ]
    }
   ],
   "source": [
    "df = pd.read_csv(\"television.txt\", sep=\"\\t\").dropna(axis='columns', how='all')\n",
    "print(df.shape)"
   ]
  },
  {
   "cell_type": "code",
   "execution_count": 43,
   "id": "d9f2a115",
   "metadata": {},
   "outputs": [],
   "source": [
    "df.drop?\n"
   ]
  },
  {
   "cell_type": "markdown",
   "id": "6517e9b1",
   "metadata": {},
   "source": [
    "### option 2: sélection avec un masque et `[]`"
   ]
  },
  {
   "cell_type": "code",
   "execution_count": 46,
   "id": "67141cf1",
   "metadata": {},
   "outputs": [
    {
     "name": "stdout",
     "output_type": "stream",
     "text": [
      "(8403, 4)\n"
     ]
    }
   ],
   "source": [
    "df = pd.read_csv(\"television.txt\", sep=\"\\t\").dropna(axis='columns', how='all')\n",
    "print(df.shape)"
   ]
  },
  {
   "cell_type": "code",
   "execution_count": 47,
   "id": "3fa4291e",
   "metadata": {},
   "outputs": [],
   "source": [
    "df = df[~ df['cLT2FREQ'].isna()]"
   ]
  },
  {
   "cell_type": "code",
   "execution_count": 50,
   "id": "a7d1b0b0",
   "metadata": {},
   "outputs": [
    {
     "data": {
      "text/html": [
       "<div>\n",
       "<style scoped>\n",
       "    .dataframe tbody tr th:only-of-type {\n",
       "        vertical-align: middle;\n",
       "    }\n",
       "\n",
       "    .dataframe tbody tr th {\n",
       "        vertical-align: top;\n",
       "    }\n",
       "\n",
       "    .dataframe thead th {\n",
       "        text-align: right;\n",
       "    }\n",
       "</style>\n",
       "<table border=\"1\" class=\"dataframe\">\n",
       "  <thead>\n",
       "    <tr style=\"text-align: right;\">\n",
       "      <th></th>\n",
       "      <th>POIDLOG</th>\n",
       "      <th>POIDSF</th>\n",
       "      <th>cLT1FREQ</th>\n",
       "      <th>cLT2FREQ</th>\n",
       "    </tr>\n",
       "  </thead>\n",
       "  <tbody>\n",
       "    <tr>\n",
       "      <th>0</th>\n",
       "      <td>0.889422</td>\n",
       "      <td>4766.865201</td>\n",
       "      <td>2</td>\n",
       "      <td>1.0</td>\n",
       "    </tr>\n",
       "    <tr>\n",
       "      <th>1</th>\n",
       "      <td>2.310209</td>\n",
       "      <td>12381.589746</td>\n",
       "      <td>30</td>\n",
       "      <td>1.0</td>\n",
       "    </tr>\n",
       "    <tr>\n",
       "      <th>2</th>\n",
       "      <td>2.740070</td>\n",
       "      <td>14685.431344</td>\n",
       "      <td>6</td>\n",
       "      <td>2.0</td>\n",
       "    </tr>\n",
       "    <tr>\n",
       "      <th>3</th>\n",
       "      <td>1.775545</td>\n",
       "      <td>9516.049939</td>\n",
       "      <td>1</td>\n",
       "      <td>1.0</td>\n",
       "    </tr>\n",
       "    <tr>\n",
       "      <th>4</th>\n",
       "      <td>0.732512</td>\n",
       "      <td>3925.907588</td>\n",
       "      <td>3</td>\n",
       "      <td>1.0</td>\n",
       "    </tr>\n",
       "  </tbody>\n",
       "</table>\n",
       "</div>"
      ],
      "text/plain": [
       "    POIDLOG        POIDSF  cLT1FREQ  cLT2FREQ\n",
       "0  0.889422   4766.865201         2       1.0\n",
       "1  2.310209  12381.589746        30       1.0\n",
       "2  2.740070  14685.431344         6       2.0\n",
       "3  1.775545   9516.049939         1       1.0\n",
       "4  0.732512   3925.907588         3       1.0"
      ]
     },
     "execution_count": 50,
     "metadata": {},
     "output_type": "execute_result"
    }
   ],
   "source": [
    "df.head(5)"
   ]
  },
  {
   "cell_type": "code",
   "execution_count": 51,
   "id": "13144526",
   "metadata": {},
   "outputs": [
    {
     "data": {
      "text/plain": [
       "True"
      ]
     },
     "execution_count": 51,
     "metadata": {},
     "output_type": "execute_result"
    }
   ],
   "source": [
    "df.shape == (7386, 4)"
   ]
  },
  {
   "cell_type": "markdown",
   "id": "ce875db9",
   "metadata": {},
   "source": [
    "## sauver un fichier excel"
   ]
  },
  {
   "cell_type": "code",
   "execution_count": 52,
   "id": "293236da",
   "metadata": {},
   "outputs": [],
   "source": [
    "filename = \"television.xlsx\"\n",
    "df.to_excel(filename)"
   ]
  }
 ],
 "metadata": {
  "kernelspec": {
   "display_name": "Python 3 (ipykernel)",
   "language": "python",
   "name": "python3"
  },
  "language_info": {
   "codemirror_mode": {
    "name": "ipython",
    "version": 3
   },
   "file_extension": ".py",
   "mimetype": "text/x-python",
   "name": "python",
   "nbconvert_exporter": "python",
   "pygments_lexer": "ipython3",
   "version": "3.9.12"
  }
 },
 "nbformat": 4,
 "nbformat_minor": 5
}
